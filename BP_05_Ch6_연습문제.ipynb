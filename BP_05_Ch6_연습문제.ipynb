{
  "nbformat": 4,
  "nbformat_minor": 0,
  "metadata": {
    "colab": {
      "provenance": [],
      "authorship_tag": "ABX9TyOBGO3/uFiqk1pwOTjMdbl7",
      "include_colab_link": true
    },
    "kernelspec": {
      "name": "python3",
      "display_name": "Python 3"
    },
    "language_info": {
      "name": "python"
    }
  },
  "cells": [
    {
      "cell_type": "markdown",
      "metadata": {
        "id": "view-in-github",
        "colab_type": "text"
      },
      "source": [
        "<a href=\"https://colab.research.google.com/github/SeungJoo03/BP_05_Ch6/blob/main/BP_05_Ch6_%EC%97%B0%EC%8A%B5%EB%AC%B8%EC%A0%9C.ipynb\" target=\"_parent\"><img src=\"https://colab.research.google.com/assets/colab-badge.svg\" alt=\"Open In Colab\"/></a>"
      ]
    },
    {
      "cell_type": "markdown",
      "source": [
        "2부터 100 사이의 모든 짝수를 출려하는 반복 루프를 작성한다."
      ],
      "metadata": {
        "id": "2xqC7bpmjUSu"
      }
    },
    {
      "cell_type": "code",
      "source": [
        "for i in range(2,101,2):\n",
        "  print(i, end=\" \")\n",
        "  "
      ],
      "metadata": {
        "colab": {
          "base_uri": "https://localhost:8080/"
        },
        "id": "p9Vrwo-3jXaf",
        "outputId": "81459f40-9e8a-4a4f-eaeb-b609a3cdb26e"
      },
      "execution_count": 1,
      "outputs": [
        {
          "output_type": "stream",
          "name": "stdout",
          "text": [
            "2 4 6 8 10 12 14 16 18 20 22 24 26 28 30 32 34 36 38 40 42 44 46 48 50 52 54 56 58 60 62 64 66 68 70 72 74 76 78 80 82 84 86 88 90 92 94 96 98 100 "
          ]
        }
      ]
    },
    {
      "cell_type": "markdown",
      "source": [
        "어떤 사람이 복리이자율 7%로 1000만원을 저금했을 경우에 2000만원이 되늗네 몇 년이 걸리는지 계산하기 위하여 다음과 코드를 작성하였다. 잘못된 점은 없는지 체크해보자."
      ],
      "metadata": {
        "id": "OgsfHGCnjf_u"
      }
    },
    {
      "cell_type": "code",
      "source": [
        "year = 0\n",
        "balance = 1000\n",
        "\n",
        "while balance >= 2000 :\n",
        "  year = year + 1\n",
        "  interest = balance * 0.07\n",
        "  balance = balance + interest\n",
        "print(year, \"년 걸립니다.\")"
      ],
      "metadata": {
        "colab": {
          "base_uri": "https://localhost:8080/"
        },
        "id": "xtLdpTZfjqz4",
        "outputId": "4c4de040-6cea-41b4-a75b-25dc6c0378bc"
      },
      "execution_count": 2,
      "outputs": [
        {
          "output_type": "stream",
          "name": "stdout",
          "text": [
            "0 년 걸립니다.\n"
          ]
        }
      ]
    },
    {
      "cell_type": "markdown",
      "source": [
        "다음 코드의 출력을 예상해보자. 각 단계에서 변수의 값을 예상해보시오."
      ],
      "metadata": {
        "id": "yNVJLkNLj5_y"
      }
    },
    {
      "cell_type": "code",
      "source": [
        "n = 1234\n",
        "sum = 0\n",
        "while n > 0 :\n",
        "  digit = n % 10\n",
        "  sum = sum + digit\n",
        "  n = n // 10\n",
        "print(sum)"
      ],
      "metadata": {
        "colab": {
          "base_uri": "https://localhost:8080/"
        },
        "id": "ouHWG75qj-OP",
        "outputId": "2f343f5a-f182-45d7-e8f9-71f67afaa78a"
      },
      "execution_count": 3,
      "outputs": [
        {
          "output_type": "stream",
          "name": "stdout",
          "text": [
            "10\n"
          ]
        }
      ]
    },
    {
      "cell_type": "markdown",
      "source": [
        "사용자에게 곱셈 퀴즈를 내고 답을 사용자로부터 받는 프로그램에서 사용자가 올바른 답을 입력할 때까지 반복하도록 수정하여 보자"
      ],
      "metadata": {
        "id": "y9KFvh5xkOuw"
      }
    },
    {
      "cell_type": "code",
      "source": [
        "import random\n",
        "\n",
        "a = random.randint(1,10)\n",
        "b = random.randint(1,10)\n",
        "com = a*b\n",
        "while True:\n",
        "  usr = int(input(str(a) + \"*\" + str(b) + \"는\"))\n",
        "  if (usr == com):\n",
        "    print(\"맞았습니다.\")\n",
        "    break;"
      ],
      "metadata": {
        "colab": {
          "base_uri": "https://localhost:8080/"
        },
        "id": "AgHUxDxpkWSZ",
        "outputId": "7ea1feeb-8edc-4d09-9aea-70011f47c764"
      },
      "execution_count": 6,
      "outputs": [
        {
          "output_type": "stream",
          "name": "stdout",
          "text": [
            "9*5는14\n",
            "9*5는14\n",
            "9*5는14\n",
            "9*5는45\n",
            "맞았습니다.\n"
          ]
        }
      ]
    },
    {
      "cell_type": "markdown",
      "source": [
        "사용자가 입력한 정수의 합을 계산하는 프로그램을 작성하자. 사용자가 0을 입력하기 전까지 정수를 계속하여 읽도록 한다"
      ],
      "metadata": {
        "id": "wyA9RdZyk3kC"
      }
    },
    {
      "cell_type": "code",
      "source": [
        "sum = 0\n",
        "while True:\n",
        "  a = int(input(\"정수를 입력하시오: \"))\n",
        "  if (a == 0):\n",
        "    print(\"합은 \", sum, \"입니다.\")\n",
        "    break\n",
        "\n",
        "  sum += a]"
      ],
      "metadata": {
        "colab": {
          "base_uri": "https://localhost:8080/"
        },
        "id": "Qd825X9Tk-OD",
        "outputId": "1cf16681-a123-4c2c-bda8-3a8726c65b39"
      },
      "execution_count": 7,
      "outputs": [
        {
          "output_type": "stream",
          "name": "stdout",
          "text": [
            "정수를 입력하시오: 1\n",
            "정수를 입력하시오: 2\n",
            "정수를 입력하시오: 3\n",
            "정수를 입력하시오: 0\n",
            "합은  6 입니다.\n"
          ]
        }
      ]
    },
    {
      "cell_type": "markdown",
      "source": [
        "난수 생성 함수를 사용하여서 2개의 주사위를 던졌을 때 나오는 수를 다음과 같이 출력하여 보자"
      ],
      "metadata": {
        "id": "-H7dKjRTlQ3T"
      }
    },
    {
      "cell_type": "code",
      "source": [
        "import random\n",
        "\n",
        "count = 0\n",
        "\n",
        "while True:\n",
        "  a = random.randint(1,6)\n",
        "  b = random.randint(1,6)\n",
        "  \n",
        "  print(\"첫 번째 주사위 : \", a, \"두 번째 주사위 : \", b)\n",
        "  count += 1\n",
        "  if(count == 5):\n",
        "    break"
      ],
      "metadata": {
        "colab": {
          "base_uri": "https://localhost:8080/"
        },
        "id": "Bspo2TYMlUKD",
        "outputId": "cdfbd051-d8f2-46ca-8d41-db66530a62a7"
      },
      "execution_count": 30,
      "outputs": [
        {
          "output_type": "stream",
          "name": "stdout",
          "text": [
            "첫 번째 주사위 :  1 두 번째 주사위 :  5\n",
            "첫 번째 주사위 :  2 두 번째 주사위 :  2\n",
            "첫 번째 주사위 :  5 두 번째 주사위 :  5\n",
            "첫 번째 주사위 :  4 두 번째 주사위 :  2\n",
            "첫 번째 주사위 :  6 두 번째 주사위 :  3\n"
          ]
        }
      ]
    },
    {
      "cell_type": "markdown",
      "source": [
        "터틀 그래픽과 반복을 사용하여 눈 모양을 그려보자"
      ],
      "metadata": {
        "id": "ZfdfWbzgnU55"
      }
    },
    {
      "cell_type": "markdown",
      "source": [
        "우리는 이번 장에서 터틀 그래픽으로 별을 그려보았다. 이 코드를 으용하여서 다음과 같이 10개의 별을 그리는 프로그램을 작성하라. 별들은 시작 각도가 약간씩 다르다"
      ],
      "metadata": {
        "id": "KwuY_PjEnXh0"
      }
    },
    {
      "cell_type": "markdown",
      "source": [
        "반복과 난수를 함께 사용하면 화면에 랜덤한 원을 그릴 수 있다. 화면에 10개의 랜덤한 원을 그리는 프로그램을 작성하라. 원의 중심과 반지름이 모두 난수이어야 한다"
      ],
      "metadata": {
        "id": "yXJubd8Knd9d"
      }
    },
    {
      "cell_type": "markdown",
      "source": [
        "다음과 같이 거북이를 왕복 달리기시키는 프로그램을 작성해보자"
      ],
      "metadata": {
        "id": "QRLlCn0JnkTf"
      }
    },
    {
      "cell_type": "markdown",
      "source": [
        "다음의 터틀 그래픽 프로그램을 분석해보자. 학습하지 않은 함수가 있다면 인터넷에서 조사하여 보자"
      ],
      "metadata": {
        "id": "NHLpkCe_nn80"
      }
    },
    {
      "cell_type": "markdown",
      "source": [
        "터틀 그래픽과 반복을 사용하여 싸인(sine) 그래프를 그려보자. 거북이를 싸인값에 따라서 움직이면 된다"
      ],
      "metadata": {
        "id": "MEi-ogBxns6O"
      }
    }
  ]
}